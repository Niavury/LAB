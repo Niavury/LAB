{
  "nbformat": 4,
  "nbformat_minor": 0,
  "metadata": {
    "coursera": {
      "course_slug": "linear-algebra-machine-learning",
      "graded_item_id": "Sfbnp",
      "launcher_item_id": "aPxf3"
    },
    "kernelspec": {
      "display_name": "Python 3",
      "language": "python",
      "name": "python3"
    },
    "language_info": {
      "codemirror_mode": {
        "name": "ipython",
        "version": 3
      },
      "file_extension": ".py",
      "mimetype": "text/x-python",
      "name": "python",
      "nbconvert_exporter": "python",
      "pygments_lexer": "ipython3",
      "version": "3.6.0"
    },
    "colab": {
      "name": "PageRank.ipynb",
      "provenance": [],
      "collapsed_sections": [],
      "include_colab_link": true
    }
  },
  "cells": [
    {
      "cell_type": "markdown",
      "metadata": {
        "id": "view-in-github",
        "colab_type": "text"
      },
      "source": [
        "<a href=\"https://colab.research.google.com/github/Niavury/LAB/blob/master/PageRank.ipynb\" target=\"_parent\"><img src=\"https://colab.research.google.com/assets/colab-badge.svg\" alt=\"Open In Colab\"/></a>"
      ]
    },
    {
      "cell_type": "markdown",
      "metadata": {
        "collapsed": true,
        "id": "6wUTaJJka9-5"
      },
      "source": [
        "# PageRank\n",
        "В этом блокноте вы расширите свои знания о собственных векторах и собственных значениях, изучая алгоритм PageRank. Блокнот состоит из двух частей: первая представляет собой рабочий лист, который поможет вам быстрее понять, как работает алгоритм - здесь мы рассмотрим микроинтернет с менее чем 10 веб-сайтами и посмотрим, что он делает и что может пойти не так. Второй - это оценка, которая проверяет ваше применение собственной теории к этой проблеме путем написания кода и вычисления рейтинга страницы в большой сети, представляющей подсекцию Интернета."
      ]
    },
    {
      "cell_type": "markdown",
      "metadata": {
        "id": "YKBZr9NLa9-5"
      },
      "source": [
        "## Part 1 - Worksheet\n",
        "### Introduction\n",
        "\n",
        "PageRank (разработанный Ларри Пейджем и Сергеем Брином) произвел революцию в веб-поиске, создав ранжированный список веб-страниц на основе базовых возможностей подключения к сети. \n",
        "\n",
        "Алгоритм PageRank основан на идеальном случайном веб-серфере, который при переходе на страницу переходит на следующую страницу, щелкая ссылку. Пользователь имеет равную вероятность щелкнуть любую ссылку на странице и, достигнув страницы без ссылок, имеет равную вероятность перехода на любую другую страницу, введя ее URL. Кроме того, пользователь может иногда выбирать случайный URL вместо перехода по ссылкам на странице. PageRank - это ранжированный порядок страниц от наиболее к наименее вероятной странице, которую будет просматривать пользователь.\n"
      ]
    },
    {
      "cell_type": "code",
      "metadata": {
        "id": "C0K3t8MqbjNT",
        "colab": {
          "base_uri": "https://localhost:8080/"
        },
        "outputId": "d52e6ee1-a847-4706-b54d-9c0873700a94"
      },
      "source": [
        "!wget https://github.com/andrew-veriga/MathForML/raw/master/MathForMLAssignes.zip\n",
        "!unzip -u MathForMLAssignes.zip\n",
        "!rm MathForMLAssignes.zip"
      ],
      "execution_count": 1,
      "outputs": [
        {
          "output_type": "stream",
          "name": "stdout",
          "text": [
            "--2021-12-02 23:01:55--  https://github.com/andrew-veriga/MathForML/raw/master/MathForMLAssignes.zip\n",
            "Resolving github.com (github.com)... 140.82.113.4\n",
            "Connecting to github.com (github.com)|140.82.113.4|:443... connected.\n",
            "HTTP request sent, awaiting response... 302 Found\n",
            "Location: https://raw.githubusercontent.com/andrew-veriga/MathForML/master/MathForMLAssignes.zip [following]\n",
            "--2021-12-02 23:01:56--  https://raw.githubusercontent.com/andrew-veriga/MathForML/master/MathForMLAssignes.zip\n",
            "Resolving raw.githubusercontent.com (raw.githubusercontent.com)... 185.199.111.133, 185.199.109.133, 185.199.110.133, ...\n",
            "Connecting to raw.githubusercontent.com (raw.githubusercontent.com)|185.199.111.133|:443... connected.\n",
            "HTTP request sent, awaiting response... 200 OK\n",
            "Length: 2369 (2.3K) [application/zip]\n",
            "Saving to: ‘MathForMLAssignes.zip’\n",
            "\n",
            "MathForMLAssignes.z 100%[===================>]   2.31K  --.-KB/s    in 0s      \n",
            "\n",
            "2021-12-02 23:01:56 (24.9 MB/s) - ‘MathForMLAssignes.zip’ saved [2369/2369]\n",
            "\n",
            "Archive:  MathForMLAssignes.zip\n",
            "  inflating: bearNecessities.py      \n",
            "  inflating: PageRankFunctions.py    \n"
          ]
        }
      ]
    },
    {
      "cell_type": "code",
      "metadata": {
        "id": "oDNvQfbfa9-5",
        "colab": {
          "base_uri": "https://localhost:8080/"
        },
        "outputId": "bcdaab97-799b-4619-a9b4-d7d90300470f"
      },
      "source": [
        "# Before we begin, let's load the libraries.\n",
        "%pylab notebook\n",
        "import numpy as np\n",
        "import numpy.linalg as la\n",
        "from PageRankFunctions import *\n",
        "np.set_printoptions(suppress=True)"
      ],
      "execution_count": 2,
      "outputs": [
        {
          "output_type": "stream",
          "name": "stdout",
          "text": [
            "Populating the interactive namespace from numpy and matplotlib\n"
          ]
        }
      ]
    },
    {
      "cell_type": "markdown",
      "metadata": {
        "id": "pusP8gU7a9-6"
      },
      "source": [
        "### PageRank как задача линейной алгебры\n",
        "Представьте себе микроинтернет в котором есть только 6 вебсайтов (**A**vocado, **B**ullseye, **C**atBabel, **D**romeda, **e**Tings, and **F**aceSpace).\n",
        "Каждый веб-сайт ссылается на некоторые другие, и все они образуют сеть, как показано на рисунке.\n",
        "\n",
        "![A Micro-Internet](https://github.com/andrew-veriga/MathForML/raw/master/internet.png \"A Micro-Internet\")\n",
        "\n",
        "Принцип построения PageRank заключается в том, что важные веб-сайты будут ссылаться на важные веб-сайты.\n",
        "Этот несколько рекурсивный принцип ляжет в основу нашей идеи.\n",
        "\n",
        "Представьте себе 100 *Прокрастинирующих Патов* в нашем микро-Интернете, каждый просматривает один веб-сайт в один момент времени.\n",
        "\n",
        "Каждую минуту Паты переходят на своем сайте по ссылке на другой сайт в микроинтернет.\n",
        "\n",
        "Через некоторое время веб-сайты, на которые больше всего ссылаются, будут посещать больше Патов, и в конечном итоге на каждой минуте вместо одного Пата, покидающего веб-сайт, будет входить другой, сохраняя общее количество Патов на каждом веб-сайте постоянным.\n",
        "PageRank - это просто рейтинг веб-сайтов по тому, сколько на них отметок в конце этого процесса.\n",
        "\n",
        "Мы представляем количество Патов на каждом веб-сайте вектором,\n",
        "$$\\mathbf{r} = \\begin{bmatrix} r_A \\\\ r_B \\\\ r_C \\\\ r_D \\\\ r_E \\\\ r_F \\end{bmatrix}$$\n",
        "И пусть количество Патов на каждом веб-сайте в минуту $ i + 1 $ выводится из количества Патов в минуту $ i $ посредством преобразования матрицы.\n",
        "\n",
        "\n",
        "$$ \\mathbf{r}^{(i+1)} = L \\,\\mathbf{r}^{(i)}$$\n",
        "с матрицей $L$, имеющей вид,\n",
        "$$ L = \\begin{bmatrix}\n",
        "L_{A→A} & L_{B→A} & L_{C→A} & L_{D→A} & L_{E→A} & L_{F→A} \\\\\n",
        "L_{A→B} & L_{B→B} & L_{C→B} & L_{D→B} & L_{E→B} & L_{F→B} \\\\\n",
        "L_{A→C} & L_{B→C} & L_{C→C} & L_{D→C} & L_{E→C} & L_{F→C} \\\\\n",
        "L_{A→D} & L_{B→D} & L_{C→D} & L_{D→D} & L_{E→D} & L_{F→D} \\\\\n",
        "L_{A→E} & L_{B→E} & L_{C→E} & L_{D→E} & L_{E→E} & L_{F→E} \\\\\n",
        "L_{A→F} & L_{B→F} & L_{C→F} & L_{D→F} & L_{E→F} & L_{F→F} \\\\\n",
        "\\end{bmatrix}\n",
        "$$\n",
        "где столбцы представляют вероятность *ухода* с веб-сайта на любой другой веб-сайта, а сумма равна единице.\n",
        "Строки определяют, вероятность *входа* на веб-сайт с любого другого, и их сумма не должна равняться единице.\n",
        "Долгое время поведение этой системы - это когда $ \\mathbf{r}^{(i+1)} = \\mathbf{r}^{(i)}$, поэтому мы опустим здесь верхние индексы, и это позволяет нам писать,\n",
        "$$ L \\,\\mathbf{r} = \\mathbf{r}$$\n",
        " \n",
        "которое является уравнением на собственные значения для матрицы $L$ с собственным значением 1 (это гарантируется вероятностной структурой матрицы $L$)\n",
        "\n",
        "Заполните матрицу $ L $ ниже, в которой не указан столбец для веб-сайта *FaceSpace* (**F**).\n",
        "\n",
        "Помните, что это вероятность ухода с соотвествующего столбцу веб-сайта на другой, поэтому каждый столбец в сумме должен равняться единице (путем масштабирования по количеству ссылок)."
      ]
    },
    {
      "cell_type": "code",
      "metadata": {
        "id": "AphP8ruea9-6"
      },
      "source": [
        "# RЗаменить ??? здесь с вероятностью перехода по ссылке на каждый веб-сайт при выходе с веб-сайта F (FaceSpace).\n",
        "L = np.array([[0,   1/2, 1/3, 0, 0,   0 ],\n",
        "              [1/3, 0,   0,   0, 1/2, 0 ],\n",
        "              [1/3, 1/2, 0,   1, 0,   1/2 ],\n",
        "              [1/3, 0,   1/3, 0, 1/2, 1/2 ],\n",
        "              [0,   0,   0,   0, 0,   0 ],\n",
        "              [0,   0,   1/3, 0, 0,   0 ]])"
      ],
      "execution_count": 4,
      "outputs": []
    },
    {
      "cell_type": "markdown",
      "metadata": {
        "id": "dXcJEnV-a9-6"
      },
      "source": [
        "В принципе, мы могли бы использовать библиотеку линейной алгебры, как показано ниже, для вычисления собственных значений и векторов.\n",
        "\n",
        "И это сработает для небольшой системы. Но для больших систем это становится неуправляемым.\n",
        "\n",
        "А поскольку нас интересует только главный собственный вектор (тот, который имеет наибольшее собственное значение, которое в данном случае будет равно 1), мы можем использовать метод *степенной итерации*, который будет лучше масштабироваться, и он быстрее для больших систем.\n",
        "\n",
        "Используйте приведенный ниже код, чтобы узнать рейтинг страницы для этого микроинтернета."
      ]
    },
    {
      "cell_type": "code",
      "metadata": {
        "id": "D3znpS3ja9-6",
        "colab": {
          "base_uri": "https://localhost:8080/"
        },
        "outputId": "e11c6c68-5650-46fa-9d1e-b4a88ec8c678"
      },
      "source": [
        "eVals, eVecs = la.eig(L) # Возвращает собственные вектор и значение\n",
        "order = np.absolute(eVals).argsort()[::-1] # Сортирует их по собственным значениям\n",
        "eVals = eVals[order]\n",
        "eVecs = eVecs[:,order]\n",
        "\n",
        "r = eVecs[:, 0] # Присваивает r главный собственный вектор\n",
        "100 * np.real(r / np.sum(r)) # приводит сумму собственных векторов к единице и умножает на количество прокрастинирующих Патов"
      ],
      "execution_count": 5,
      "outputs": [
        {
          "output_type": "execute_result",
          "data": {
            "text/plain": [
              "array([16.        ,  5.33333333, 40.        , 25.33333333,  0.        ,\n",
              "       13.33333333])"
            ]
          },
          "metadata": {},
          "execution_count": 5
        }
      ]
    },
    {
      "cell_type": "markdown",
      "metadata": {
        "id": "lUiFZ74Va9-6"
      },
      "source": [
        "Из этого списка мы можем увидеть количество откладываний на потом, которые мы ожидаем найти на каждом веб-сайте спустя долгое время.\n",
        "отсортированный по убыванию * популярности * (на основе этого показателя), рейтинг PageRank этого микроинтернета составляет:\n",
        "\n",
        "**C**atBabel, **D**romeda, **A**vocado, **F**aceSpace, **B**ullseye, **e**Tings\n",
        " \n",
        "Смотря на схему микро-интернета, вы этого ожидали?\n",
        "Убедитесь, что это разумный рейтинг: страницы выглядят важными, судя по количеству ссылок на них.\n",
        "\n",
        "Давайте теперь попробуем получить тот же результат, используя метод Power-Iteration, который был рассмотрен в лекции.\n",
        "Этот метод будет намного лучше при работе с большими системами.\n",
        "\n",
        "Сначала давайте настроим наш начальный вектор, $\\mathbf{r}^{(0)}$, \n",
        "так, чтобы у нас были 100 прокрастинирующих Патов, равномерно распределенных по всем нашим 6 веб-сайтам."
      ]
    },
    {
      "cell_type": "code",
      "metadata": {
        "id": "QdZBRCWOa9-6",
        "colab": {
          "base_uri": "https://localhost:8080/"
        },
        "outputId": "ca4a8b41-940f-4205-cb4d-4513073b53b2"
      },
      "source": [
        "r = 100 * np.ones(6) / 6 # Устанавливает этот вектор (6 записей размером 1/6 × 100 каждая)\n",
        "r # Показывает его значение"
      ],
      "execution_count": 6,
      "outputs": [
        {
          "output_type": "execute_result",
          "data": {
            "text/plain": [
              "array([16.66666667, 16.66666667, 16.66666667, 16.66666667, 16.66666667,\n",
              "       16.66666667])"
            ]
          },
          "metadata": {},
          "execution_count": 6
        }
      ]
    },
    {
      "cell_type": "markdown",
      "metadata": {
        "id": "uwgui2y_a9-6"
      },
      "source": [
        "Затем давайте обновим вектор до следующей минуты с помощью матрицы $L$.\n",
        "Выполняйте следующую ячейку несколько раз, пока ответ не стабилизируется."
      ]
    },
    {
      "cell_type": "code",
      "metadata": {
        "id": "n0rRk04va9-6",
        "colab": {
          "base_uri": "https://localhost:8080/"
        },
        "outputId": "9777dbe1-e6bb-456c-9053-716723182e7b"
      },
      "source": [
        "r = L @ r # Применить преобразование L к r\n",
        "r # Показать его значение\n",
        "# Повторно запустите эту ячейку несколько раз, чтобы получить правильный ответ."
      ],
      "execution_count": 16,
      "outputs": [
        {
          "output_type": "execute_result",
          "data": {
            "text/plain": [
              "array([16.043354  ,  5.34020651, 39.82558888, 25.38634051,  0.        ,\n",
              "       13.4045101 ])"
            ]
          },
          "metadata": {},
          "execution_count": 16
        }
      ]
    },
    {
      "cell_type": "markdown",
      "metadata": {
        "id": "r7OrMUe0a9-6"
      },
      "source": [
        "Мы можем автоматизировать применение этой матрицы несколько раз следующим образом:"
      ]
    },
    {
      "cell_type": "code",
      "metadata": {
        "id": "GTKhmMzDa9-6",
        "colab": {
          "base_uri": "https://localhost:8080/"
        },
        "outputId": "8019bb76-bbab-40c3-e316-8fad57fbc1a0"
      },
      "source": [
        "r = 100 * np.ones(6) / 6 # обновить этот вектор единицами (6 записей со значениями = 1/6 × 100 каждая)\n",
        "for i in np.arange(100) : # повторить 100 раз\n",
        "    r = L @ r\n",
        "r"
      ],
      "execution_count": 17,
      "outputs": [
        {
          "output_type": "execute_result",
          "data": {
            "text/plain": [
              "array([16.        ,  5.33333333, 40.        , 25.33333333,  0.        ,\n",
              "       13.33333333])"
            ]
          },
          "metadata": {},
          "execution_count": 17
        }
      ]
    },
    {
      "cell_type": "markdown",
      "metadata": {
        "id": "P6dUINjja9-6"
      },
      "source": [
        "Или, что правильнее, мы можем продолжать цикл, пока не достигнем требуемой точности."
      ]
    },
    {
      "cell_type": "code",
      "metadata": {
        "id": "yRD4ykz5a9-6",
        "colab": {
          "base_uri": "https://localhost:8080/"
        },
        "outputId": "e63df635-d2c4-4315-df0f-b45064d1c406"
      },
      "source": [
        "r = 100 * np.ones(6) / 6 # обновить этот вектор единицами (6 записей со значениями = 1/6 × 100 каждая)\n",
        "lastR = r\n",
        "r = L @ r\n",
        "i = 0\n",
        "while la.norm(lastR - r) > 0.01 :\n",
        "    lastR = r\n",
        "    r = L @ r\n",
        "    i += 1\n",
        "print(str(i) + \" iterations to convergence.\")\n",
        "r"
      ],
      "execution_count": 18,
      "outputs": [
        {
          "output_type": "stream",
          "name": "stdout",
          "text": [
            "18 iterations to convergence.\n"
          ]
        },
        {
          "output_type": "execute_result",
          "data": {
            "text/plain": [
              "array([16.00149917,  5.33252025, 39.99916911, 25.3324738 ,  0.        ,\n",
              "       13.33433767])"
            ]
          },
          "metadata": {},
          "execution_count": 18
        }
      ]
    },
    {
      "cell_type": "markdown",
      "metadata": {
        "id": "M4yyl3Iua9-6"
      },
      "source": [
        "Посмотрите, порядок PageRank устанавливается довольно быстро, и вектор сходится к значению, которое мы вычислили ранее, после нескольких десятков повторов.\n",
        "\n",
        "Поздравляю! Вы только что рассчитали свой первый PageRank!"
      ]
    },
    {
      "cell_type": "markdown",
      "metadata": {
        "id": "s2PTKB2Ba9-6"
      },
      "source": [
        "### Параметр демпфирования\n",
        "\n",
        "Система, которую мы только что изучили, довольно быстро пришла к правильному ответу. Давайте рассмотрим расширение нашего микро-интернета, в котором что-то начинает идти не так.\n",
        "\n",
        "Допустим, в микроинтернет добавлен новый веб-сайт: **G**eoff.\n",
        "Этот веб-сайт связан с **F**aceSpace  и ссылается только на себя.\n",
        "\n",
        "![Расширенный микро-интернет](https://github.com/andrew-veriga/MathForML/raw/master/internet2.png \"An Expanded Micro-Internet\")\n",
        "\n",
        "Интуитивно понятно, что только *FaceSpace*, который находится в нижней половине рейтинга страницы, ссылается на этот веб-сайт среди двух других, на которые он ссылается,\n",
        "поэтому мы можем ожидать, что у сайта *Geoff* будет соответственно низкий рейтинг PageRank.\n",
        "\n",
        "Создайте новую матрицу $L$ для расширенного микро-интернета и используйте Power-Iteration для вектора Прокрастинирующий Пат.\n",
        "Посмотрим, что произойдет…"
      ]
    },
    {
      "cell_type": "code",
      "metadata": {
        "id": "Ag8ghJLaa9-6"
      },
      "source": [
        "# Мы назовем её L2, чтобы отличать от предыдущей L\n",
        "L2 = np.array([[0,   1/2, 1/3, 0, 0,   0, 0 ],\n",
        "               [1/3, 0,   0,   0, 1/2, 0, 0 ],\n",
        "               [1/3, 1/2, 0,   1, 0,   1/3, 0 ],\n",
        "               [1/3, 0,   1/3, 0, 1/2, 1/3, 0 ],\n",
        "               [0,   0,   0,   0, 0,   0, 0 ],\n",
        "               [0,   0,   1/3, 0, 0,   0, 0 ],\n",
        "               [0,   0,   0,   0, 0,   1/3, 1 ]])"
      ],
      "execution_count": 20,
      "outputs": []
    },
    {
      "cell_type": "code",
      "metadata": {
        "id": "KmRDqgJwa9-6",
        "colab": {
          "base_uri": "https://localhost:8080/"
        },
        "outputId": "276db321-3b93-4dba-d52e-ed7396b82f54"
      },
      "source": [
        "r = 100 * np.ones(7) / 7 # задать начальный единичный вектор (7 записей со значениями = 1/7 × 100 каждая)\n",
        "lastR = r\n",
        "r = L2 @ r\n",
        "i = 0\n",
        "while la.norm(lastR - r) > 0.01 :\n",
        "    lastR = r\n",
        "    r = L2 @ r\n",
        "    i += 1\n",
        "print(str(i) + \" итераций до схождения.\")\n",
        "r"
      ],
      "execution_count": 21,
      "outputs": [
        {
          "output_type": "stream",
          "name": "stdout",
          "text": [
            "131 итераций до схождения.\n"
          ]
        },
        {
          "output_type": "execute_result",
          "data": {
            "text/plain": [
              "array([ 0.03046998,  0.01064323,  0.07126612,  0.04423198,  0.        ,\n",
              "        0.02489342, 99.81849527])"
            ]
          },
          "metadata": {},
          "execution_count": 21
        }
      ]
    },
    {
      "cell_type": "markdown",
      "metadata": {
        "id": "R3MfBCn2a9-6"
      },
      "source": [
        "Что-то тут не очень. Похоже, что *Джефф* забирает весь трафик в микро-интернете и каким-то образом занимает верхние позиции в рейтинге страниц.\n",
        "Такое поведение можно понять, потому что как только Пэт попадает на сайт *Джеффа*, он не может покинуть его, так как все ссылки ведут обратно на Джеффа.\n",
        "\n",
        "Чтобы бороться с этим, мы можем добавить небольшую вероятность того, что прокрастинирующие Паты не переходят по какой-либо ссылке на веб-странице, а вместо этого посещают веб-сайт в микроинтернете случайным образом.\n",
        "Пусть вероятность того, что они перейдут по ссылке, составляет $d$, и поэтому вероятность выбора случайного веб-сайта составляет $1-d$.\n",
        "Мы можем использовать новую матрицу, чтобы выяснить, куда каждую минуту заходит Пэт.\n",
        "$$ M = d \\, L + \\frac{1-d}{n} \\, J $$\n",
        "где $J$ - матрица $n\\times n$, где каждый элемент равен единице.\n",
        "\n",
        "Если $ d $ равен единице, у нас тот же случай, что был и раньше, но если $ d $ равен нулю, мы всегда будем посещать случайную веб-страницу, и, следовательно, все веб-страницы будут иметь одинаковую вероятность и равный рейтинг.\n",
        "Чтобы это расширение работало лучше всего, $ 1-d $ должно быть довольно маленьким - хотя мы не будем вдаваться в обсуждение того, насколько он маленький.\n",
        "\n",
        "Давайте повторим этот PageRank с этим расширением."
      ]
    },
    {
      "cell_type": "code",
      "metadata": {
        "id": "areWL0Yna9-7"
      },
      "source": [
        "d = 0.5 # можете поиграть с этим параметром после однократного запуска кода.\n",
        "M = d * L2 + (1-d)/7 * np.ones([7, 7]) # np.ones() - матрица J , состоящая из единиц."
      ],
      "execution_count": 22,
      "outputs": []
    },
    {
      "cell_type": "code",
      "metadata": {
        "id": "MdV38eNda9-7",
        "colab": {
          "base_uri": "https://localhost:8080/"
        },
        "outputId": "04bde60d-aa65-41d0-fcb7-a27b7b2bd4cf"
      },
      "source": [
        "r = 100 * np.ones(7) / 7 # вектор из 7 одинаковых значений, каждое равно 1/7 × 100\n",
        "lastR = r\n",
        "r = M @ r\n",
        "i = 0\n",
        "while la.norm(lastR - r) > 0.01 :\n",
        "    lastR = r\n",
        "    r = M @ r\n",
        "    i += 1\n",
        "print(str(i) + \" итераций до схождения.\")\n",
        "r"
      ],
      "execution_count": 23,
      "outputs": [
        {
          "output_type": "stream",
          "name": "stdout",
          "text": [
            "8 итераций до схождения.\n"
          ]
        },
        {
          "output_type": "execute_result",
          "data": {
            "text/plain": [
              "array([13.68217054, 11.20902965, 22.41964343, 16.7593433 ,  7.14285714,\n",
              "       10.87976354, 17.90719239])"
            ]
          },
          "metadata": {},
          "execution_count": 23
        }
      ]
    },
    {
      "cell_type": "markdown",
      "metadata": {
        "id": "RYRCU19-a9-7"
      },
      "source": [
        "Так, безусловно, лучше: PageRank дает разумные числа для прокрастинирующих Патов, которые появляются на каждой веб-странице.\n",
        "Однако этот метод по-прежнему предсказывает, что у Джеффа высокий рейтинг веб-страницы.\n",
        "Это можно рассматривать как следствие использования маленькой сети. Мы также могли бы обойти проблему, не подсчитывая ссылки на себя при создании L-матрицы (если у веб-сайта нет исходящих ссылок, сделайте его ссылающимся на все сайты одинаково).\n",
        "Мы не будем углубляться в этот метод, поскольку это уже сфера улучшения PageRank, а не задач собственных векторов и собственных значений.\n",
        "\n",
        "Теперь, когда вы получили представление о PageRank, вы можете создать свой собственный код для расчета PageRank веб-сайта с тысячами записей.\n",
        "\n",
        "Удачи!"
      ]
    },
    {
      "cell_type": "markdown",
      "metadata": {
        "id": "a3BL5gQGa9-7"
      },
      "source": [
        "## Часть 2 - Задание\n",
        "В этом задании от вас требуется создать функцию, которая может вычислить PageRank для произвольно большой матрицы вероятностей.\n",
        "Это последнее задание курса даст меньше рекомендаций, чем предыдущие.\n",
        "Ожидается, что вы будете использовать код из предыдущего примера и приспособите его под свои нужды.\n",
        "\n"
      ]
    },
    {
      "cell_type": "code",
      "metadata": {
        "id": "Th6xa8MIa9-7"
      },
      "source": [
        "# GRADED FUNCTION\n",
        "# Complete this function to provide the PageRank for an arbitrarily sized internet.\n",
        "# I.e. the principal eigenvector of the damped system, using the power iteration method.\n",
        "# (Normalisation doesn't matter here)\n",
        "# The functions inputs are the linkMatrix, and d the damping parameter - as defined in this worksheet.\n",
        "\n",
        "def pageRank(linkMatrix, d) :\n",
        "    n = linkMatrix.shape[0]\n",
        "    M = d * linkMatrix + (1-d)/n * np.ones([n, n]) \n",
        "    r = 100 * np.ones(n) / n \n",
        "    lastR = r\n",
        "    r = M @ r\n",
        "    i = 0\n",
        "    while la.norm(lastR - r) > 0.01 :\n",
        "        lastR = r\n",
        "        r = M @ r\n",
        "        i += 1\n",
        "    print(str(i) + \" итераций до схождения.\")\n",
        "    return r\n"
      ],
      "execution_count": 44,
      "outputs": []
    },
    {
      "cell_type": "markdown",
      "metadata": {
        "id": "rjqtvbGYa9-7"
      },
      "source": [
        "## Протестируйте свой код перед отправкой\n",
        "Чтобы проверить код, который вы написали выше, запустите ячейку (выберите ячейку выше, затем нажмите кнопку воспроизведения [▶ |] или нажмите Shift-Enter).\n",
        "Затем вы можете использовать приведенный ниже код, чтобы проверить свою функцию.\n",
        "вы можете редактировать и запускать его сколько угодно."
      ]
    },
    {
      "cell_type": "code",
      "metadata": {
        "id": "S2OqwXAsa9-7",
        "colab": {
          "base_uri": "https://localhost:8080/"
        },
        "outputId": "a97421ee-c811-474f-97aa-ce79368c87d9"
      },
      "source": [
        "# Use the following function to generate internets of different sizes.\n",
        "generate_internet(5)"
      ],
      "execution_count": 36,
      "outputs": [
        {
          "output_type": "execute_result",
          "data": {
            "text/plain": [
              "array([[1. , 0. , 0. , 0.2, 0.2],\n",
              "       [0. , 1. , 0.5, 0.2, 0.2],\n",
              "       [0. , 0. , 0.5, 0.2, 0.2],\n",
              "       [0. , 0. , 0. , 0.2, 0.2],\n",
              "       [0. , 0. , 0. , 0.2, 0.2]])"
            ]
          },
          "metadata": {},
          "execution_count": 36
        }
      ]
    },
    {
      "cell_type": "code",
      "metadata": {
        "id": "Xy0PEYiLa9-7"
      },
      "source": [
        "# Test your PageRank method against the built in \"eig\" method.\n",
        "# You should see yours is a lot faster for large internets\n",
        "\n",
        "# Сравните свой метод PageRank со встроенным методом 'eig'.\n",
        "# Вы должны увидеть, что ваш сайт работает намного быстрее для больших сетей\n",
        "L = generate_internet(10)"
      ],
      "execution_count": 37,
      "outputs": []
    },
    {
      "cell_type": "code",
      "metadata": {
        "id": "Qshn9KFya9-7",
        "colab": {
          "base_uri": "https://localhost:8080/"
        },
        "outputId": "9b52efa7-900c-4ae2-bb14-22bde84ef31d"
      },
      "source": [
        "pageRank(L, 1)"
      ],
      "execution_count": 38,
      "outputs": [
        {
          "output_type": "stream",
          "name": "stdout",
          "text": [
            "20 итераций до схождения.\n"
          ]
        },
        {
          "output_type": "execute_result",
          "data": {
            "text/plain": [
              "array([14.28571412,  0.00000015,  0.00000049, 17.14284771, 17.14530307,\n",
              "        0.00002297, 34.2832633 ,  0.00000015, 17.14284788,  0.00000015])"
            ]
          },
          "metadata": {},
          "execution_count": 38
        }
      ]
    },
    {
      "cell_type": "code",
      "metadata": {
        "id": "c9xsmLXIa9-7",
        "colab": {
          "base_uri": "https://localhost:8080/"
        },
        "outputId": "74401d5c-89b1-44b3-a727-0b0fe60af47f"
      },
      "source": [
        "\n",
        "# Обратите внимание, это вычисление собственных значений матрицы ссылок, L,\n",
        "# без демпфирования. Это может дать другие результаты, чем функция pageRank.\n",
        "# Если хотите, вы можете изменить эту ячейку, чтобы включить демпфирование.\n",
        "\n",
        "eVals, eVecs = la.eig(L) # выдает собственные векторы и значения\n",
        "order = np.absolute(eVals).argsort()[::-1] # сортировка по собственным значениям\n",
        "eVals = eVals[order]\n",
        "eVecs = eVecs[:,order]\n",
        "\n",
        "r = eVecs[:, 0]\n",
        "100 * np.real(r / np.sum(r))"
      ],
      "execution_count": 39,
      "outputs": [
        {
          "output_type": "execute_result",
          "data": {
            "text/plain": [
              "array([11.76468198,  0.00000001,  0.00000002, 17.64706358, 17.6470636 ,\n",
              "        0.00000002, 35.29412716,  0.00000001, 17.64706359,  0.00000001])"
            ]
          },
          "metadata": {},
          "execution_count": 39
        }
      ]
    },
    {
      "cell_type": "code",
      "metadata": {
        "id": "GrBZNO54a9-7",
        "colab": {
          "base_uri": "https://localhost:8080/",
          "height": 283
        },
        "outputId": "49ea18a3-13c6-4c16-aaf5-d9ff4521824b"
      },
      "source": [
        "# Вы можете просмотреть PageRank графически.\n",
        "# Этот код будет рисовать столбчатую диаграмму, для каждого веб-сайта в сгенерированном Интернете,\n",
        "# Высота каждого столбца будет рейтингом в PageRank.\n",
        "# запустите этот код, чтобы увидеть PageRank для каждого варианта интернета, который вы создали.\n",
        "# Надеюсь, вы увидите, что вы могли бы ожидать:\n",
        "# есть несколько кластеров полезных веб-сайтов, но большинство в Интернете - мусор\n",
        "%matplotlib inline\n",
        "r = pageRank(generate_internet(100), 0.9)\n",
        "plt.bar(arange(r.shape[0]), r);"
      ],
      "execution_count": 46,
      "outputs": [
        {
          "output_type": "stream",
          "name": "stdout",
          "text": [
            "35 итераций до схождения.\n"
          ]
        },
        {
          "output_type": "display_data",
          "data": {
            "image/png": "[encoded data removed]",
            "text/plain": [
              "<Figure size 432x288 with 1 Axes>"
            ]
          },
          "metadata": {
            "needs_background": "light"
          }
        }
      ]
    },
    {
      "cell_type": "code",
      "metadata": {
        "id": "4-EMOkfVa9-7"
      },
      "source": [
        ""
      ],
      "execution_count": null,
      "outputs": []
    }
  ]
}